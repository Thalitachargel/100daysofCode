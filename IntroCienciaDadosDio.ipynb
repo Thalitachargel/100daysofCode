{
  "nbformat": 4,
  "nbformat_minor": 0,
  "metadata": {
    "colab": {
      "name": "IntroCienciaDadosDio.ipynb",
      "private_outputs": true,
      "provenance": [],
      "authorship_tag": "ABX9TyPqEXsrvwuclKUXd6FXgE9b",
      "include_colab_link": true
    },
    "kernelspec": {
      "name": "python3",
      "display_name": "Python 3"
    },
    "language_info": {
      "name": "python"
    }
  },
  "cells": [
    {
      "cell_type": "markdown",
      "metadata": {
        "id": "view-in-github",
        "colab_type": "text"
      },
      "source": [
        "<a href=\"https://colab.research.google.com/github/Thalitachargel/100daysofCode/blob/main/IntroCienciaDadosDio.ipynb\" target=\"_parent\"><img src=\"https://colab.research.google.com/assets/colab-badge.svg\" alt=\"Open In Colab\"/></a>"
      ]
    },
    {
      "cell_type": "markdown",
      "metadata": {
        "id": "NblJWvBcYAZQ"
      },
      "source": [
        "# Introdução a ciência de dados\n",
        "## aula 3 - modelo em python\n",
        "###Digital inovation one"
      ]
    },
    {
      "cell_type": "code",
      "metadata": {
        "id": "uxeB-yVVXwet"
      },
      "source": [
        "# Importando bibliotecas\n",
        "import pandas as pd\n",
        "import numpy as np\n",
        "from sklearn.ensemble import RandomForestClassifier\n",
        "from sklearn.model_selection import train_test_split\n"
      ],
      "execution_count": null,
      "outputs": []
    },
    {
      "cell_type": "code",
      "metadata": {
        "id": "5ZowhSX-Zjiq"
      },
      "source": [
        "#Instalando o api do Kaggle\n",
        "! pip install -q kaggle"
      ],
      "execution_count": null,
      "outputs": []
    },
    {
      "cell_type": "code",
      "metadata": {
        "id": "0cZEQdeNYCIa"
      },
      "source": [
        "pip install kaggle"
      ],
      "execution_count": null,
      "outputs": []
    },
    {
      "cell_type": "code",
      "metadata": {
        "id": "JCxjWSidYmLe"
      },
      "source": [
        "from google.colab import files"
      ],
      "execution_count": null,
      "outputs": []
    },
    {
      "cell_type": "code",
      "metadata": {
        "id": "_gC5R2s-Y9Vq"
      },
      "source": [
        "files.upload()"
      ],
      "execution_count": null,
      "outputs": []
    },
    {
      "cell_type": "code",
      "metadata": {
        "id": "cNEozOb5Z4DQ"
      },
      "source": [
        " ! mkdir ~/.kaggle\n",
        "\n",
        "! cp kaggle.json ~/.kaggle/"
      ],
      "execution_count": null,
      "outputs": []
    },
    {
      "cell_type": "code",
      "metadata": {
        "id": "K_JpdRLfaCQG"
      },
      "source": [
        "! chmod 600 ~/.kaggle/kaggle.json"
      ],
      "execution_count": null,
      "outputs": []
    },
    {
      "cell_type": "code",
      "metadata": {
        "id": "jSLG15tOaGOo"
      },
      "source": [
        "! kaggle datasets list"
      ],
      "execution_count": null,
      "outputs": []
    },
    {
      "cell_type": "code",
      "metadata": {
        "id": "ikBM1G0eaJET"
      },
      "source": [
        "! kaggle competitions download -c titanic"
      ],
      "execution_count": null,
      "outputs": []
    },
    {
      "cell_type": "code",
      "metadata": {
        "id": "XEIDMi9CaMGR"
      },
      "source": [
        "! mkdir train"
      ],
      "execution_count": null,
      "outputs": []
    },
    {
      "cell_type": "code",
      "metadata": {
        "id": "4dXiDI39aZLV"
      },
      "source": [
        "! unzip train.zip -d train"
      ],
      "execution_count": null,
      "outputs": []
    },
    {
      "cell_type": "code",
      "metadata": {
        "id": "HQrFrrQWaeo2"
      },
      "source": [
        "# Lendo o Banco de dados\n",
        "dados = pd.read_csv('/content/train.csv')"
      ],
      "execution_count": null,
      "outputs": []
    },
    {
      "cell_type": "code",
      "metadata": {
        "id": "xqEcPq_7bKfo"
      },
      "source": [
        "dados.head()"
      ],
      "execution_count": null,
      "outputs": []
    },
    {
      "cell_type": "code",
      "metadata": {
        "id": "gXXeOc7SbUeq"
      },
      "source": [
        "#Limpando dados desnecessários\n",
        "dados = dados.drop(['Name', 'Ticket', 'Cabin', 'Embarked'], axis =1)\n",
        "\n",
        "# No exercício foi dropado a cabine, mas acredito que saber se um sobrevivente ou não sobrevivente estava na mesma cabine (implicando que fosse 'familia') seria relevante. "
      ],
      "execution_count": null,
      "outputs": []
    },
    {
      "cell_type": "code",
      "metadata": {
        "id": "XFFg50G1cSWP"
      },
      "source": [
        "dados.head()"
      ],
      "execution_count": null,
      "outputs": []
    },
    {
      "cell_type": "code",
      "metadata": {
        "id": "vAswjwq2cuMH"
      },
      "source": [
        "#Editando as chaves variáveis\n",
        "#dados = dados.set_index(['PassengerID'])\n",
        "dados = dados.rename(columns = {'Survived' : 'target'}, inplace=False)"
      ],
      "execution_count": null,
      "outputs": []
    },
    {
      "cell_type": "code",
      "metadata": {
        "id": "AFMkNzC5dQPX"
      },
      "source": [
        "dados.head()"
      ],
      "execution_count": null,
      "outputs": []
    },
    {
      "cell_type": "code",
      "metadata": {
        "id": "r0v_xra2d_D3"
      },
      "source": [
        "#Descritiva\n",
        "dados.describe()"
      ],
      "execution_count": null,
      "outputs": []
    },
    {
      "cell_type": "code",
      "metadata": {
        "id": "GXw2vT62hQH-"
      },
      "source": [
        "dados.describe(include=['O'])"
      ],
      "execution_count": null,
      "outputs": []
    },
    {
      "cell_type": "code",
      "metadata": {
        "id": "6CDzmnmEhF4W"
      },
      "source": [
        "#transformando em dados \n",
        "dados['Sex_F'] = np.where(dados['Sex'] == 'female', 1, 0)"
      ],
      "execution_count": null,
      "outputs": []
    },
    {
      "cell_type": "code",
      "metadata": {
        "id": "EXnwpAWihZ_y"
      },
      "source": [
        "dados['Pclass_1'] = np.where(dados['Pclass'] ==1, 1, 0  )\n",
        "dados['Pclass_2'] = np.where(dados['Pclass'] ==2, 1, 0  )\n",
        "dados['Pclass_3'] = np.where(dados['Pclass'] ==3, 1, 0  )"
      ],
      "execution_count": null,
      "outputs": []
    },
    {
      "cell_type": "code",
      "metadata": {
        "id": "uX9pEoddiY1m"
      },
      "source": [
        "dados = dados.drop(['Pclass', 'Sex'], axis = 1)"
      ],
      "execution_count": null,
      "outputs": []
    },
    {
      "cell_type": "code",
      "metadata": {
        "id": "QzELOuLJiqi9"
      },
      "source": [
        "dados.head()"
      ],
      "execution_count": null,
      "outputs": []
    },
    {
      "cell_type": "code",
      "metadata": {
        "id": "BreJv3JaisnZ"
      },
      "source": [
        "#substituição de missing\n",
        "dados.isnull().sum()"
      ],
      "execution_count": null,
      "outputs": []
    },
    {
      "cell_type": "code",
      "metadata": {
        "id": "QU0waMTti8nn"
      },
      "source": [
        "dados.fillna(0, inplace = True)"
      ],
      "execution_count": null,
      "outputs": []
    },
    {
      "cell_type": "code",
      "metadata": {
        "id": "vOXskG5NjRLr"
      },
      "source": [
        "dados.isnull().sum()"
      ],
      "execution_count": null,
      "outputs": []
    },
    {
      "cell_type": "code",
      "metadata": {
        "id": "iwROJWrdjabP"
      },
      "source": [
        "#Amostragem\n",
        "x_train, x_test, y_train, y_test = train_test_split(dados.drop(['target'], axis = 1),\n",
        "                                                    dados['target'],\n",
        "                                                    test_size = 0.7,\n",
        "                                                    random_state = 1234)\n",
        "[{'treino': x_train.shape, 'teste':x_test.shape}]"
      ],
      "execution_count": null,
      "outputs": []
    },
    {
      "cell_type": "code",
      "metadata": {
        "id": "ObY05QwNkG53"
      },
      "source": [
        "#Modelo Random Forest\n",
        "\n",
        "rndforest = RandomForestClassifier(n_estimators=1000,\n",
        "                                   criterion = 'gini',\n",
        "                                   max_depth = 5)\n",
        "rndforest.fit(x_train, y_train)"
      ],
      "execution_count": null,
      "outputs": []
    },
    {
      "cell_type": "code",
      "metadata": {
        "id": "Nlrkoh9Blr0W"
      },
      "source": [
        "probabilidade = rndforest.predict_proba(dados.drop('target', axis = 1))[:,1]\n",
        "classificacao = rndforest.predict(dados.drop('target', axis = 1))"
      ],
      "execution_count": null,
      "outputs": []
    },
    {
      "cell_type": "code",
      "metadata": {
        "id": "DPxIMScymXF7"
      },
      "source": [
        "dados['probabilidade'] = probabilidade\n",
        "dados['classificação'] = classificacao\n",
        "dados"
      ],
      "execution_count": null,
      "outputs": []
    },
    {
      "cell_type": "code",
      "metadata": {
        "id": "XmuV5QcFmpYh"
      },
      "source": [
        ""
      ],
      "execution_count": null,
      "outputs": []
    }
  ]
}