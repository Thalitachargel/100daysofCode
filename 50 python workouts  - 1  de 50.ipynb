{
 "cells": [
  {
   "cell_type": "markdown",
   "metadata": {},
   "source": [
    "# 50 Exercicios de Pythons -\n",
    "\n",
    "[![capa do livro](https://images-na.ssl-images-amazon.com/images/I/415+HoG0TyL._SX397_BO1,204,203,200_.jpg)](https://amzn.to/2Ru1Ded)\n"
   ]
  },
  {
   "cell_type": "code",
   "execution_count": 16,
   "metadata": {},
   "outputs": [],
   "source": [
    "import pandas as pd\n",
    "import random\n",
    "import datetime as dt"
   ]
  },
  {
   "cell_type": "markdown",
   "metadata": {},
   "source": [
    "## Referencias uteis"
   ]
  },
  {
   "cell_type": "code",
   "execution_count": 7,
   "metadata": {},
   "outputs": [
    {
     "data": {
      "text/plain": [
       "89"
      ]
     },
     "execution_count": 7,
     "metadata": {},
     "output_type": "execute_result"
    }
   ],
   "source": [
    "# random\n",
    "number = random.randint(1, 100)\n",
    "number"
   ]
  },
  {
   "cell_type": "code",
   "execution_count": 22,
   "metadata": {},
   "outputs": [
    {
     "name": "stdout",
     "output_type": "stream",
     "text": [
      "It is currently 2021-06-07 01:19:35.675597\n"
     ]
    }
   ],
   "source": [
    "# F strings\n",
    "print(f'It is currently {dt.datetime.now()}')"
   ]
  },
  {
   "cell_type": "code",
   "execution_count": 26,
   "metadata": {},
   "outputs": [
    {
     "name": "stdout",
     "output_type": "stream",
     "text": [
      "0\n",
      "1\n",
      "4\n",
      "9\n",
      "16\n",
      "25\n",
      "36\n",
      "49\n",
      "64\n",
      "81\n"
     ]
    }
   ],
   "source": [
    "# Input\n",
    "for i in range(10):\n",
    "    print(i * i)"
   ]
  },
  {
   "cell_type": "code",
   "execution_count": 28,
   "metadata": {},
   "outputs": [
    {
     "name": "stdout",
     "output_type": "stream",
     "text": [
      "0: a\n",
      "1: b\n",
      "2: c\n"
     ]
    }
   ],
   "source": [
    "# Enumerate\n",
    "for index, item in enumerate('abc'):\n",
    "    print(f'{index}: {item}')"
   ]
  },
  {
   "cell_type": "code",
   "execution_count": 34,
   "metadata": {},
   "outputs": [
    {
     "data": {
      "text/plain": [
       "<reversed at 0x29ebc0105e0>"
      ]
     },
     "execution_count": 34,
     "metadata": {},
     "output_type": "execute_result"
    }
   ],
   "source": [
    "#Reversed\n",
    "r = reversed('abcd')\n",
    "r"
   ]
  },
  {
   "cell_type": "markdown",
   "metadata": {},
   "source": [
    "## Exercicio 1 : Jogo de advinhação 👩‍💻❓\n",
    "\n",
    "**prompt:**  \n",
    "* [x] Escreva a função: *Guessing_game* que não recebe nenhum argumento.  \n",
    "* [x] Quando rodar, a função deve gerar um numero aleatório entre 0 e 100(inclusivo).  \n",
    "* [x] Então deve perguntar ao usuário pra advinhar o numero.   \n",
    "* [x] A cada interação, ele ira responder ao usuário se o chute está alto, baixo ou correto.  \n",
    "* [x] Em caso de acerto, sai do programa.  \n",
    "\n"
   ]
  },
  {
   "cell_type": "code",
   "execution_count": 47,
   "metadata": {},
   "outputs": [],
   "source": [
    "def guessing_game():\n",
    "    number = random.randint(0, 100)\n",
    "    \n",
    "    \n",
    "    while True:\n",
    "        chute = int(input(\"Advinhque qual numero : \"))\n",
    "\n",
    "        if chute == number:\n",
    "            print(f\" Parabens, {chute} é o valor correto!\")\n",
    "            break   \n",
    "        elif chute > number:\n",
    "            print(f\"vish! {chute} é um valor muito alto, tente de novo\")\n",
    "            \n",
    "        else:\n",
    "            print(f\"vish! {chute} é um valor muito baixo, tente de novo\")\n",
    "        "
   ]
  },
  {
   "cell_type": "code",
   "execution_count": 48,
   "metadata": {},
   "outputs": [
    {
     "name": "stdout",
     "output_type": "stream",
     "text": [
      "Advinhque qual numero : 50\n",
      "vish! 50 é um valor muito alto, tente de novo\n",
      "Advinhque qual numero : 25\n",
      "vish! 25 é um valor muito alto, tente de novo\n",
      "Advinhque qual numero : 15\n",
      "vish! 15 é um valor muito alto, tente de novo\n",
      "Advinhque qual numero : 12\n",
      "vish! 12 é um valor muito baixo, tente de novo\n",
      "Advinhque qual numero : 13\n",
      "vish! 13 é um valor muito baixo, tente de novo\n",
      "Advinhque qual numero : 14\n",
      " Parabens, 14 é o valor correto!\n"
     ]
    }
   ],
   "source": [
    "guessing_game()"
   ]
  },
  {
   "cell_type": "markdown",
   "metadata": {},
   "source": [
    "## Exercício 2: Summing Numbers:\n",
    "**prompt**  \n"
   ]
  },
  {
   "cell_type": "code",
   "execution_count": null,
   "metadata": {},
   "outputs": [],
   "source": []
  }
 ],
 "metadata": {
  "gist": {
   "data": {
    "description": "Untitled10.ipynb",
    "public": true
   },
   "id": ""
  },
  "kernelspec": {
   "display_name": "Python 3",
   "language": "python",
   "name": "python3"
  },
  "language_info": {
   "codemirror_mode": {
    "name": "ipython",
    "version": 3
   },
   "file_extension": ".py",
   "mimetype": "text/x-python",
   "name": "python",
   "nbconvert_exporter": "python",
   "pygments_lexer": "ipython3",
   "version": "3.8.3"
  }
 },
 "nbformat": 4,
 "nbformat_minor": 4
}
