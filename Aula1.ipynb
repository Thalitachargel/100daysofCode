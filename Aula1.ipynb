{
 "cells": [
  {
   "cell_type": "markdown",
   "metadata": {},
   "source": [
    "# Standford CS224N: NLP with Deep Learning\n",
    "##### Winter 2019 | [aula 1](https://youtu.be/8rXD5-xhemo) \n",
    "### Introdução e Vetor de palavras"
   ]
  },
  {
   "cell_type": "markdown",
   "metadata": {},
   "source": [
    "## Como nos representamos o significado das palavras?\n",
    "\n",
    "A definição de palavra, no dicionário webster é:\n",
    "> A ideia que é representada por uma palavra, frase, etc.\n",
    "> A ideia que uma pessoa quer expressar usando palavras, signos, etc.\n",
    "> A ideia expressa atraves de trabalhos artisticos, escrita e etc.\n",
    ">\n",
    "> | Significante (simbolo) | < = > | significado (ideia ou coisa) |\n",
    "\n",
    "## Como representamos signifcaos uteís no computador?\n",
    "\n",
    "Solução comum: Usar uma **Wordnet**, usando toda lista de significados e hiperídeas."
   ]
  },
  {
   "cell_type": "code",
   "execution_count": 9,
   "metadata": {},
   "outputs": [],
   "source": [
    "# importante bibliotecas\n",
    "from nltk.corpus import wordnet as wn\n",
    "import pandas as pd\n"
   ]
  },
  {
   "cell_type": "code",
   "execution_count": 6,
   "metadata": {},
   "outputs": [
    {
     "name": "stderr",
     "output_type": "stream",
     "text": [
      "[nltk_data] Downloading package wordnet to\n",
      "[nltk_data]     C:\\Users\\thali\\AppData\\Roaming\\nltk_data...\n",
      "[nltk_data]   Unzipping corpora\\wordnet.zip.\n"
     ]
    },
    {
     "data": {
      "text/plain": [
       "True"
      ]
     },
     "execution_count": 6,
     "metadata": {},
     "output_type": "execute_result"
    }
   ],
   "source": [
    "#import nltk\n",
    "#nltk.download('wordnet')"
   ]
  },
  {
   "cell_type": "code",
   "execution_count": 8,
   "metadata": {},
   "outputs": [
    {
     "name": "stdout",
     "output_type": "stream",
     "text": [
      "noun: good\n",
      "noun: good, goodness\n",
      "noun: good, goodness\n",
      "noun: commodity, trade_good, good\n",
      "adj: good\n",
      "adj (s): full, good\n",
      "adj: good\n",
      "adj (s): estimable, good, honorable, respectable\n",
      "adj (s): beneficial, good\n",
      "adj (s): good\n",
      "adj (s): good, just, upright\n",
      "adj (s): adept, expert, good, practiced, proficient, skillful, skilful\n",
      "adj (s): good\n",
      "adj (s): dear, good, near\n",
      "adj (s): dependable, good, safe, secure\n",
      "adj (s): good, right, ripe\n",
      "adj (s): good, well\n",
      "adj (s): effective, good, in_effect, in_force\n",
      "adj (s): good\n",
      "adj (s): good, serious\n",
      "adj (s): good, sound\n",
      "adj (s): good, salutary\n",
      "adj (s): good, honest\n",
      "adj (s): good, undecomposed, unspoiled, unspoilt\n",
      "adj (s): good\n",
      "adv: well, good\n",
      "adv: thoroughly, soundly, good\n"
     ]
    }
   ],
   "source": [
    "#Conjunto de synonimos contendo \"good\"\n",
    "\n",
    "poses = {'n': 'noun', 'v': 'verb', 's': 'adj (s)', 'a': 'adj', 'r': 'adv'}\n",
    "for synset in wn.synsets(\"good\"):\n",
    "    print(\"{}: {}\".format(poses[synset.pos()],\n",
    "                          \", \".join([l.name() for l in synset.lemmas()])))"
   ]
  },
  {
   "cell_type": "code",
   "execution_count": 10,
   "metadata": {},
   "outputs": [
    {
     "data": {
      "text/plain": [
       "[Synset('procyonid.n.01'),\n",
       " Synset('carnivore.n.01'),\n",
       " Synset('placental.n.01'),\n",
       " Synset('mammal.n.01'),\n",
       " Synset('vertebrate.n.01'),\n",
       " Synset('chordate.n.01'),\n",
       " Synset('animal.n.01'),\n",
       " Synset('organism.n.01'),\n",
       " Synset('living_thing.n.01'),\n",
       " Synset('whole.n.02'),\n",
       " Synset('object.n.01'),\n",
       " Synset('physical_entity.n.01'),\n",
       " Synset('entity.n.01')]"
      ]
     },
     "execution_count": 10,
     "metadata": {},
     "output_type": "execute_result"
    }
   ],
   "source": [
    "#Palavras com hiponímia (hypernyms) de \"panda\"\n",
    "panda =  wn.synset(\"panda.n.01\")\n",
    "hyper = lambda s: s.hypernyms()\n",
    "list(panda.closure(hyper))"
   ]
  },
  {
   "cell_type": "markdown",
   "metadata": {},
   "source": [
    "## Problemas de usar o *wordnet*:\n",
    "- Apesar de uma grande fonte de recursos, ele não tem as nuances da fala;\n",
    "    - Exemplo: \"proficient\" está marcado como sinonimo de \"good\", o que só é verdade em alguns casos.\n",
    "- A falta de neologismos:\n",
    "    - por exemplo \"wicked\", \"badass\", \"ninja\", etc;\n",
    "    - impossivel de estar sempre atualizado.\n",
    "- Subjetivo;\n",
    "- Requer trabalho humano pra criar e adptar;\n",
    "- não processa com segurança palavras muito semelhantes.\n",
    "\n"
   ]
  },
  {
   "cell_type": "markdown",
   "metadata": {},
   "source": [
    "## Representando palavras como simbolos discretos\n",
    "\n",
    "No **NLP** * tradicional, nós designamos as palavras à simbolos discretos, por exemplo\n",
    "\n",
    "> Hotel, Conference, Motel -- Uma represenatação ** Localista**\n",
    "\n",
    "--- \n",
    "| **One-Hot Vectors** | Meaning one 1, the rest 0s |\n",
    "\n",
    "\n",
    "> Palavras podem ser representadas por **one-hot vector**:\n",
    "\n",
    "| Motel | 000000000010000 |\n",
    "| - | - |\n",
    "| Hotel | 000000010000000 |\n",
    "\n",
    "\n",
    "\n",
    "\n",
    "Mas temos um problema aqui:\n",
    "*linguas tem **MUITAS** palavras.*\n",
    "\n",
    "** Se fizermos uma busca por \"Moteis em Seatle\", nos vamos querer também o resultado para \"Hoteis em Seatle\", afinal, são categorias semelhantes.**\n",
    "porem \n",
    "\n",
    "| Motel | 000000000010000 |\n",
    "| - | - |\n",
    "| Hotel | 000000010000000 |\n",
    "\n",
    "Esses dois vetores são ortogonais, ou seja, não existe uma noção de silimaridade entre os dois para um **one-hot vetor**.\n",
    "\n",
    "**Soluções:**\n",
    "- Podemos tentar confiar na lista de sinominos por similariedade do Wordnet?\n",
    "    - A tecnica tende a falha por ser muito incompleta.\n",
    "- Podemos tambem tentar encondar a similaridade em cada vetor, como o google fez em 2005.\n",
    "    - O problema seria o tamanho do vetor (500000 me média)\n",
    "\n",
    "----\n",
    " * *NLP aplicada até antes de 2012. As tecnicas mudaram com a introdução das tecnicas de neuronet style* "
   ]
  },
  {
   "cell_type": "markdown",
   "metadata": {},
   "source": [
    "## Representando palavras pelo Contexto\n",
    "\n",
    "- **Distribuição semântica:**  O significado de uma palavra é 'dado' pela frequencia com que as palavras mencionadas junto.\n",
    "    - um dos modelos estatísticos mais bem sucedidos da *NLP moderna*. \n",
    "- Quando a palavra **P** aparece em um texto, seu contexto o conjunto de palavras que a acomanha (em uma dada janela de informação).\n",
    "- Exemplo:\n",
    " > \"*... government debt problems turning into **banking** crises as happen in 2009 ...*\"   \n",
    " > \"*... saying that Europe need unified **banking** regulation to replace the hodgepodge ...*\"  \n",
    " > \"*... India has just given its **banking** system a shot in the arm...*\"    \n",
    "                                               \n",
    "                    ⬆     Essas palavras ditarão o contexto    ⬆ \n",
    "\n"
   ]
  },
  {
   "cell_type": "markdown",
   "metadata": {},
   "source": [
    "## Vector de Palavras\n",
    "Vamos construir um vector denso para cada palavras, escolhendo um "
   ]
  },
  {
   "cell_type": "code",
   "execution_count": 13,
   "metadata": {},
   "outputs": [
    {
     "data": {
      "text/plain": [
       "{-0.542, -0.177, -0.107, 0.109, 0.271, 0.286, 0.349, 0.792}"
      ]
     },
     "execution_count": 13,
     "metadata": {},
     "output_type": "execute_result"
    }
   ],
   "source": [
    "banking = {0.286, 0.792, -0.177, -0.107, 0.109, -0.542, 0.349, 0.271}\n",
    "banking"
   ]
  },
  {
   "cell_type": "code",
   "execution_count": 12,
   "metadata": {},
   "outputs": [
    {
     "data": {
      "text/plain": [
       "{-0.542, -0.177, -0.107, 0.109, 0.271, 0.286, 0.349, 0.792}"
      ]
     },
     "execution_count": 12,
     "metadata": {},
     "output_type": "execute_result"
    }
   ],
   "source": []
  },
  {
   "cell_type": "code",
   "execution_count": null,
   "metadata": {},
   "outputs": [],
   "source": []
  }
 ],
 "metadata": {
  "kernelspec": {
   "display_name": "Python 3",
   "language": "python",
   "name": "python3"
  },
  "language_info": {
   "codemirror_mode": {
    "name": "ipython",
    "version": 3
   },
   "file_extension": ".py",
   "mimetype": "text/x-python",
   "name": "python",
   "nbconvert_exporter": "python",
   "pygments_lexer": "ipython3",
   "version": "3.8.3"
  }
 },
 "nbformat": 4,
 "nbformat_minor": 4
}
